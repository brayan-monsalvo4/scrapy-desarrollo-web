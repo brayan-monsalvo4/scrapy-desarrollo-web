{
 "cells": [
  {
   "cell_type": "code",
   "execution_count": 1,
   "metadata": {},
   "outputs": [],
   "source": [
    "from bs4 import BeautifulSoup as bs\n",
    "import regex\n",
    "import os\n",
    "from jinja2 import Environment, FileSystemLoader"
   ]
  },
  {
   "cell_type": "code",
   "execution_count": 2,
   "metadata": {},
   "outputs": [],
   "source": [
    "with open('./pagina_resina.html', 'r', encoding='utf-8') as file:\n",
    "    contenido_html_resina = file.read()\n",
    "\n",
    "with open('./pagina_fdm.html', 'r', encoding='utf-8') as file:\n",
    "    contenido_html_fdm = file.read()\n",
    "\n",
    "pagina_resina = bs(contenido_html_resina, \"html.parser\")\n",
    "pagina_fdm = bs(contenido_html_fdm, \"html.parser\")\n"
   ]
  },
  {
   "cell_type": "code",
   "execution_count": 3,
   "metadata": {},
   "outputs": [
    {
     "name": "stderr",
     "output_type": "stream",
     "text": [
      "<>:1: SyntaxWarning: invalid escape sequence '\\:'\n",
      "<>:2: SyntaxWarning: invalid escape sequence '\\:'\n",
      "<>:1: SyntaxWarning: invalid escape sequence '\\:'\n",
      "<>:2: SyntaxWarning: invalid escape sequence '\\:'\n",
      "/tmp/ipykernel_10357/874525791.py:1: SyntaxWarning: invalid escape sequence '\\:'\n",
      "  marcas_resina = [marca.text.strip() for marca in pagina_resina.select_one(\"body > div > div.app.svelte-1hklul4 > main > div.flex.flex-col.md\\:flex-row.p-6 > div.w-full.md\\:w-1\\/4 > div > div.mx-6 > div\")]\n",
      "/tmp/ipykernel_10357/874525791.py:2: SyntaxWarning: invalid escape sequence '\\:'\n",
      "  marcas_fdm = [marca.text.strip() for marca in pagina_fdm.select_one(\"body > div > div.app.svelte-1hklul4 > main > div.flex.flex-col.md\\:flex-row.p-6 > div.w-full.md\\:w-1\\/4 > div > div.mx-6 > div\")]\n"
     ]
    }
   ],
   "source": [
    "marcas_resina = [marca.text.strip() for marca in pagina_resina.select_one(\"body > div > div.app.svelte-1hklul4 > main > div.flex.flex-col.md\\:flex-row.p-6 > div.w-full.md\\:w-1\\/4 > div > div.mx-6 > div\")]\n",
    "marcas_fdm = [marca.text.strip() for marca in pagina_fdm.select_one(\"body > div > div.app.svelte-1hklul4 > main > div.flex.flex-col.md\\:flex-row.p-6 > div.w-full.md\\:w-1\\/4 > div > div.mx-6 > div\")]"
   ]
  },
  {
   "cell_type": "code",
   "execution_count": 4,
   "metadata": {},
   "outputs": [],
   "source": [
    "productos_resina = pagina_resina.find(\"div\", class_=\"w-full md:w-3/4 pl-0 md:pl-8\").find_all(\"div\", class_=\"flex flex-col sm:flex-row\")\n",
    "productos_fdm = pagina_fdm.find(\"div\", class_=\"w-full md:w-3/4 pl-0 md:pl-8\").find_all(\"div\", class_=\"flex flex-col sm:flex-row\")\n"
   ]
  },
  {
   "cell_type": "code",
   "execution_count": 5,
   "metadata": {},
   "outputs": [
    {
     "name": "stdout",
     "output_type": "stream",
     "text": [
      "31\n",
      "114\n",
      "['Creality', 'Elegoo', 'ANET', 'Anycubic', 'Formlabs', 'Phrozen']\n",
      "['Bambu Lab', 'Prusa', 'Creality', 'AnkerMake', 'LulzBot', 'Kingroon', 'Artillery', 'FLSun', 'Sovol', 'Elegoo', 'Voxelab', 'ANET', 'Qidi', 'Anycubic', 'Modix', 'FlashForge', 'MakerBot', 'Snapmaker', 'Raise3D']\n"
     ]
    }
   ],
   "source": [
    "print(len(productos_resina))\n",
    "print(len(productos_fdm))\n",
    "print(marcas_resina)\n",
    "print(marcas_fdm)"
   ]
  },
  {
   "cell_type": "code",
   "execution_count": 6,
   "metadata": {},
   "outputs": [],
   "source": [
    "impresoras_resina = list()\n",
    "impresoras_fdm = list()\n",
    "\n",
    "for producto in productos_resina:\n",
    "    nombre_producto = producto.find(\"h2\", class_=\"text-lg font-bold mb-2\").a.text.strip()\n",
    "    marca = nombre_producto.split(\" \")[0]\n",
    "    subdiv = list(filter( lambda x: x != \"\" and x != \" \", producto.find(\"div\", class_=\"grid grid-cols-1 sm:grid-cols-2 gap-1 sm:gap-4\").children))\n",
    "    \n",
    "    anio_lanzamiento = subdiv[1].text\n",
    "    volumen_construccion = subdiv[3].text\n",
    "    precio = subdiv[5].text.replace(\"$\", \"\")\n",
    "    moneda = \"dolar\"\n",
    "    nombre_url = producto.find(\"img\", class_=\"searchImage w-full sm:w-auto svelte-1mydttb\").get(\"src\").split(\"/\")[2]\n",
    "    url_imagen = f\"https://ik.imagekit.io/3dpros/PrintersDB/{nombre_url}\"\n",
    "\n",
    "    impresoras_resina.append(\n",
    "        {\n",
    "            \"nombre\" : nombre_producto,\n",
    "            \"marca\" : marca,\n",
    "            \"tipo\" : \"RESINA\",\n",
    "            \"anio_lanzamiento\" : anio_lanzamiento,\n",
    "            \"volumen_construccion\" : volumen_construccion,\n",
    "            \"precio\" : precio,\n",
    "            \"moneda\" : \"DOLAR\",\n",
    "            \"url_imagen\" : url_imagen\n",
    "        }\n",
    "    )\n",
    "\n",
    "for producto in productos_fdm:\n",
    "    nombre_producto = producto.find(\"h2\", class_=\"text-lg font-bold mb-2\").a.text.strip()\n",
    "    marca = nombre_producto.split(\" \")[0]\n",
    "    subdiv = list(filter( lambda x: x != \"\" and x != \" \", producto.find(\"div\", class_=\"grid grid-cols-1 sm:grid-cols-2 gap-1 sm:gap-4\").children))\n",
    "    \n",
    "    anio_lanzamiento = subdiv[1].text\n",
    "    volumen_construccion = subdiv[3].text\n",
    "    precio = subdiv[5].text.replace(\"$\", \"\")\n",
    "    moneda = \"dolar\"\n",
    "    nombre_url = producto.find(\"img\", class_=\"searchImage w-full sm:w-auto svelte-1mydttb\").get(\"src\").split(\"/\")[2]\n",
    "    url_imagen = f\"https://ik.imagekit.io/3dpros/PrintersDB/{nombre_url}\"\n",
    "\n",
    "    impresoras_fdm.append(\n",
    "        {\n",
    "            \"nombre\" : nombre_producto,\n",
    "            \"marca\" : marca,\n",
    "            \"tipo\" : \"FDM\",\n",
    "            \"anio_lanzamiento\" : anio_lanzamiento,\n",
    "            \"volumen_construccion\" : volumen_construccion,\n",
    "            \"precio\" : precio,\n",
    "            \"moneda\" : \"DOLAR\",\n",
    "            \"url_imagen\" : url_imagen\n",
    "        }\n",
    "    )\n",
    "\n",
    "impresoras = impresoras_fdm + impresoras_resina\n"
   ]
  },
  {
   "cell_type": "code",
   "execution_count": 7,
   "metadata": {},
   "outputs": [
    {
     "name": "stdout",
     "output_type": "stream",
     "text": [
      "{'nombre': 'Bambu Lab P1S', 'marca': 'Bambu', 'tipo': 'FDM', 'anio_lanzamiento': '2023', 'volumen_construccion': '256 x 256 x 256 mm', 'precio': '699', 'moneda': 'DOLAR', 'url_imagen': 'https://ik.imagekit.io/3dpros/PrintersDB/Bambu_Lab_P1S'}\n"
     ]
    }
   ],
   "source": [
    "print(impresoras[0])"
   ]
  },
  {
   "cell_type": "code",
   "execution_count": 8,
   "metadata": {},
   "outputs": [],
   "source": [
    "env = Environment(\n",
    "    loader=FileSystemLoader('./plantilla_sql')  # Directorio donde están las plantillas SQL\n",
    ")\n",
    "\n",
    "template = env.get_template(\"script.sql\")\n",
    "\n",
    "sql_final = template.render(impresoras=impresoras)\n",
    "with open(\"nuevo_script.sql\", \"w\") as file:\n",
    "    file.write(sql_final)\n",
    "\n"
   ]
  }
 ],
 "metadata": {
  "kernelspec": {
   "display_name": "venv",
   "language": "python",
   "name": "python3"
  },
  "language_info": {
   "codemirror_mode": {
    "name": "ipython",
    "version": 3
   },
   "file_extension": ".py",
   "mimetype": "text/x-python",
   "name": "python",
   "nbconvert_exporter": "python",
   "pygments_lexer": "ipython3",
   "version": "3.12.3"
  }
 },
 "nbformat": 4,
 "nbformat_minor": 2
}
